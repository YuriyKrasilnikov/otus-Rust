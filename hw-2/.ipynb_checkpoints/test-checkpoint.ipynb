{
 "cells": [
  {
   "cell_type": "code",
   "execution_count": 8,
   "id": "a64878bc-40c2-4393-971c-19e48b0aeb2f",
   "metadata": {},
   "outputs": [],
   "source": [
    ":dep uuid = {features = [\"v4\"]}"
   ]
  },
  {
   "cell_type": "code",
   "execution_count": 9,
   "id": "a2e07012-acb5-4700-a5e2-8c9bb34d5294",
   "metadata": {},
   "outputs": [],
   "source": [
    "use uuid::Uuid;\n",
    "use std::string::ToString;"
   ]
  },
  {
   "cell_type": "code",
   "execution_count": 10,
   "id": "f7502618-c328-46ad-b4a1-ab396bb23108",
   "metadata": {},
   "outputs": [],
   "source": [
    "#[derive(Clone, Copy)]\n",
    "struct SmartOutlet<I, P> {\n",
    "    id: Uuid,\n",
    "    on: bool,\n",
    "    info: I,\n",
    "    power: P,\n",
    "}"
   ]
  },
  {
   "cell_type": "code",
   "execution_count": 11,
   "id": "b3e4bbc3-fe20-4996-9813-c9d0696b2d32",
   "metadata": {},
   "outputs": [],
   "source": [
    "trait GetInfo {\n",
    "    fn get_info(&self) -> String;\n",
    "}"
   ]
  },
  {
   "cell_type": "code",
   "execution_count": 12,
   "id": "76dd0c34-9c6f-49cb-b078-1034748acf88",
   "metadata": {},
   "outputs": [],
   "source": [
    "impl<I :ToString, P> GetInfo for SmartOutlet<I, P>{\n",
    "    fn get_info(&self) -> String{\n",
    "        self.info.to_string()\n",
    "    }\n",
    "}"
   ]
  },
  {
   "cell_type": "code",
   "execution_count": 13,
   "id": "5ffbd500-1674-4f22-9779-7d861536d2b8",
   "metadata": {},
   "outputs": [],
   "source": [
    "trait Switch{\n",
    "    fn switch_mutable(&mut self)->Self;\n",
    "    fn switch_immutable(&self)->Self;\n",
    "}"
   ]
  },
  {
   "cell_type": "code",
   "execution_count": 15,
   "id": "3a81c8b5-afa3-4d0a-bfb7-a7f8c9ee9c2e",
   "metadata": {},
   "outputs": [],
   "source": [
    "impl<I, P> Switch for SmartOutlet<I, P> where I :Copy, P :Copy{\n",
    "    fn switch_mutable(&mut self)->Self{\n",
    "        self.on = !self.on;\n",
    "        *self\n",
    "    }\n",
    "    fn switch_immutable(&self)->Self{\n",
    "        Self{\n",
    "            on: !self.on,\n",
    "            ..*self\n",
    "        }\n",
    "    }\n",
    "}"
   ]
  },
  {
   "cell_type": "code",
   "execution_count": 16,
   "id": "d9fe4f68-15fd-492e-8619-abaf92b8eebb",
   "metadata": {},
   "outputs": [],
   "source": [
    "trait GetPower {\n",
    "    fn get_power(&self) -> String;\n",
    "}"
   ]
  },
  {
   "cell_type": "code",
   "execution_count": 17,
   "id": "8382ccc5-89cc-4581-8f30-4c1034d25b5a",
   "metadata": {},
   "outputs": [],
   "source": [
    "impl<I, P :ToString> GetPower for SmartOutlet<I, P>{\n",
    "    fn get_power(&self) -> String{\n",
    "        self.power.to_string()\n",
    "    }\n",
    "}"
   ]
  },
  {
   "cell_type": "code",
   "execution_count": 18,
   "id": "33acecf9-2e32-42aa-ad5c-970b0dcf6820",
   "metadata": {},
   "outputs": [],
   "source": [
    "struct Thermometer<T> {\n",
    "    id: Uuid,\n",
    "    temp: T\n",
    "}"
   ]
  },
  {
   "cell_type": "code",
   "execution_count": 19,
   "id": "63cd81e7-7cff-4633-a371-75d4980e6032",
   "metadata": {},
   "outputs": [],
   "source": [
    "trait GetTemp {\n",
    "    fn get_temp(&self) -> String;\n",
    "}"
   ]
  },
  {
   "cell_type": "code",
   "execution_count": 20,
   "id": "cd539208-a7b1-4c6b-97ba-739b2627abbd",
   "metadata": {},
   "outputs": [],
   "source": [
    "impl<T:ToString> GetTemp for Thermometer<T>{\n",
    "    fn get_temp(&self) -> String{\n",
    "        self.temp.to_string()\n",
    "    }\n",
    "}"
   ]
  },
  {
   "cell_type": "code",
   "execution_count": 32,
   "id": "e71b499a-aac8-4f88-9f7a-4e14b8d78971",
   "metadata": {},
   "outputs": [],
   "source": [
    "let so = SmartOutlet{\n",
    "    id: Uuid::new_v4(),\n",
    "    on: false,\n",
    "    info: \"test\",\n",
    "    power: 81,\n",
    "};"
   ]
  },
  {
   "cell_type": "code",
   "execution_count": 33,
   "id": "43eaf870-6a23-4cf6-a7de-151cff9f9b1a",
   "metadata": {},
   "outputs": [
    {
     "data": {
      "text/plain": [
       "\"81\""
      ]
     },
     "execution_count": 33,
     "metadata": {},
     "output_type": "execute_result"
    }
   ],
   "source": [
    "so.get_power()"
   ]
  },
  {
   "cell_type": "code",
   "execution_count": 34,
   "id": "d1a8cbb8-6615-48ee-ac92-4e85b1ebb3db",
   "metadata": {},
   "outputs": [
    {
     "data": {
      "text/plain": [
       "\"test\""
      ]
     },
     "execution_count": 34,
     "metadata": {},
     "output_type": "execute_result"
    }
   ],
   "source": [
    "so.get_info()"
   ]
  },
  {
   "cell_type": "code",
   "execution_count": 39,
   "id": "52b244b4-cf29-4681-8be3-d7d8bd668816",
   "metadata": {},
   "outputs": [
    {
     "data": {
      "text/plain": [
       "true"
      ]
     },
     "execution_count": 39,
     "metadata": {},
     "output_type": "execute_result"
    }
   ],
   "source": [
    "let so = so.switch_immutable();\n",
    "so.on"
   ]
  },
  {
   "cell_type": "code",
   "execution_count": null,
   "id": "613e0874-cce0-49b3-a1b5-d1e9f75e635d",
   "metadata": {},
   "outputs": [],
   "source": []
  }
 ],
 "metadata": {
  "kernelspec": {
   "display_name": "Rust",
   "language": "rust",
   "name": "rust"
  },
  "language_info": {
   "codemirror_mode": "rust",
   "file_extension": ".rs",
   "mimetype": "text/rust",
   "name": "Rust",
   "pygment_lexer": "rust",
   "version": ""
  }
 },
 "nbformat": 4,
 "nbformat_minor": 5
}

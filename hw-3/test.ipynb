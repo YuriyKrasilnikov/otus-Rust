{
 "cells": [
  {
   "cell_type": "code",
   "execution_count": 2,
   "id": "c621eb23-1e53-45bd-b4d4-c3e64c2495e9",
   "metadata": {},
   "outputs": [],
   "source": [
    ":dep uuid = {features = [\"v4\"]}"
   ]
  },
  {
   "cell_type": "code",
   "execution_count": 3,
   "id": "3a792c21-24bd-4a91-a0f9-1b8816737978",
   "metadata": {},
   "outputs": [],
   "source": [
    "use std::collections::HashMap;\n",
    "use std::option::Option;\n",
    "use uuid::Uuid;\n",
    "\n",
    "use std::fmt;"
   ]
  },
  {
   "cell_type": "markdown",
   "id": "bcc307b0-41c9-41f6-979c-b57e2ad5f266",
   "metadata": {},
   "source": [
    "# Устройства"
   ]
  },
  {
   "cell_type": "code",
   "execution_count": 4,
   "id": "4f59fe14-dc8e-4a47-bcf9-65c486e7e663",
   "metadata": {},
   "outputs": [],
   "source": [
    "#[derive(Debug, Clone)]\n",
    "struct SmartOutlet {\n",
    "    description: String,\n",
    "    power: u8\n",
    "}\n",
    "\n",
    "#[derive(Debug, Clone)]\n",
    "struct SmartThermometer {\n",
    "    description: String,\n",
    "    temperature: u8\n",
    "}"
   ]
  },
  {
   "cell_type": "code",
   "execution_count": 5,
   "id": "4d050008-09d7-4f64-97d9-1875915dd31f",
   "metadata": {},
   "outputs": [],
   "source": [
    "impl fmt::Display for SmartOutlet {\n",
    "    fn fmt(&self, f: &mut fmt::Formatter) -> fmt::Result {\n",
    "        write!(f, \"(Description: {}\\nPower: {})\", self.description, self.power)\n",
    "    }\n",
    "}\n",
    "\n",
    "impl fmt::Display for SmartThermometer {\n",
    "    fn fmt(&self, f: &mut fmt::Formatter) -> fmt::Result {\n",
    "        write!(f, \"(Description: {}\\nTemperature: {})\", self.description, self.temperature)\n",
    "    }\n",
    "}"
   ]
  },
  {
   "cell_type": "code",
   "execution_count": 6,
   "id": "7681e852-c9ed-4e4c-b25c-2734ec347d98",
   "metadata": {},
   "outputs": [],
   "source": [
    "impl SmartOutlet{\n",
    "    fn new(description: String, power: Option<u8>) -> Self {\n",
    "        SmartOutlet {\n",
    "            description: description,\n",
    "            power: power.unwrap_or(0)\n",
    "        }\n",
    "    }\n",
    "}"
   ]
  },
  {
   "cell_type": "code",
   "execution_count": 7,
   "id": "735ff497-953c-4085-bea9-567e2530655e",
   "metadata": {},
   "outputs": [],
   "source": [
    "impl SmartThermometer{\n",
    "    fn new(description: String, temperature: Option<u8>) -> Self {\n",
    "        SmartThermometer {\n",
    "            description: description,\n",
    "            temperature: temperature.unwrap_or(0)\n",
    "        }\n",
    "    }\n",
    "}"
   ]
  },
  {
   "cell_type": "markdown",
   "id": "f99d20d5-81d8-4db1-b316-155dfe5b0653",
   "metadata": {},
   "source": [
    "# Общая имплементация устройств"
   ]
  },
  {
   "cell_type": "code",
   "execution_count": 8,
   "id": "3b285a63-fb36-420a-b9c3-452f2cf78eb5",
   "metadata": {},
   "outputs": [],
   "source": [
    "#[derive(Debug, Clone)]\n",
    "struct SmartDevice<I :fmt::Display> {\n",
    "    id: Uuid, // у каждого девайса должен быть уникальный номер\n",
    "    name: String, // у каждого девайса должено быть имя\n",
    "    on: bool, // каждый девайс может быть или работать или нет\n",
    "    config: I // каждый девайс имеет свой тип информации о себе, который можно прочитать\n",
    "}"
   ]
  },
  {
   "cell_type": "code",
   "execution_count": 9,
   "id": "61b0eb93-d1e5-4c20-8708-eb065c30f4f5",
   "metadata": {},
   "outputs": [],
   "source": [
    "impl<I :fmt::Display> fmt::Display for SmartDevice<I> {\n",
    "    fn fmt(&self, f: &mut fmt::Formatter) -> fmt::Result {\n",
    "        write!(f, \"(Name: {}\\nOn: {}\\n{})\", self.name, self.on, self.config)\n",
    "    }\n",
    "}"
   ]
  },
  {
   "cell_type": "code",
   "execution_count": 10,
   "id": "08490505-2040-405f-bb21-86d5d4112062",
   "metadata": {},
   "outputs": [],
   "source": [
    "impl<I:fmt::Display> SmartDevice<I>{\n",
    "    fn new(name: String, config: I, on: Option<bool>) -> Self {\n",
    "        SmartDevice {\n",
    "            id: Uuid::new_v4(),\n",
    "            name: name,\n",
    "            on: on.unwrap_or(false),\n",
    "            config: config\n",
    "        }\n",
    "    }\n",
    "}"
   ]
  },
  {
   "cell_type": "code",
   "execution_count": 11,
   "id": "9cac114a-23ed-4df5-afd7-255bfdf4951c",
   "metadata": {},
   "outputs": [],
   "source": [
    "impl<I:fmt::Display> SmartDevice<I>{\n",
    "    pub fn get_name(device:&Self) -> String {\n",
    "        device.name.clone()\n",
    "    }\n",
    "}"
   ]
  },
  {
   "cell_type": "markdown",
   "id": "813a9879-a4a9-445f-886e-a9c6b51db1d9",
   "metadata": {},
   "source": [
    "# Список типов устройств"
   ]
  },
  {
   "cell_type": "code",
   "execution_count": 12,
   "id": "ed166362-001b-49b8-b0aa-95b72dea2017",
   "metadata": {},
   "outputs": [],
   "source": [
    "#[derive(Debug, Clone)]\n",
    "enum Device {\n",
    "    Outlet(SmartDevice<SmartOutlet>),\n",
    "    Thermometer(SmartDevice<SmartThermometer>)\n",
    "}"
   ]
  },
  {
   "cell_type": "code",
   "execution_count": 25,
   "id": "b5af2bec-073b-49a8-b034-253425cfc0c1",
   "metadata": {},
   "outputs": [],
   "source": [
    "macro_rules! get_device {\n",
    "    ($ex_af_device:expr) => {\n",
    "        match &$ex_af_device {\n",
    "            Device::Outlet(device) => device,\n",
    "            Device::Thermometer(device) => device\n",
    "        }\n",
    "    };\n",
    "}"
   ]
  },
  {
   "cell_type": "code",
   "execution_count": null,
   "id": "b7d52814-05aa-47fd-b33c-5c96e85f2b85",
   "metadata": {},
   "outputs": [],
   "source": []
  },
  {
   "cell_type": "code",
   "execution_count": 27,
   "id": "7526785e-c523-4f57-8fe5-05a99ae17d29",
   "metadata": {},
   "outputs": [],
   "source": [
    "macro_rules! fn_device {\n",
    "    ($ex_af_device:expr, $op:expr) => {\n",
    "        match &$ex_af_device {\n",
    "            Device::Outlet(device) => $op(device),\n",
    "            Device::Thermometer(device) => $op(device)\n",
    "        }\n",
    "    };\n",
    "}"
   ]
  },
  {
   "cell_type": "code",
   "execution_count": 28,
   "id": "50f8c2e6-c0e5-473d-840e-1a5476b51b31",
   "metadata": {},
   "outputs": [],
   "source": [
    "impl fmt::Display for Device {\n",
    "    fn fmt(&self, f: &mut fmt::Formatter) -> fmt::Result {\n",
    "        match self {\n",
    "            Device::Outlet(device) => write!(f, \"{}\", device),\n",
    "            Device::Thermometer(device) => write!(f, \"{}\", device)\n",
    "        }\n",
    "    }\n",
    "}"
   ]
  },
  {
   "cell_type": "markdown",
   "id": "1f225f96-1e98-4b0b-9ecd-2ae185832cf0",
   "metadata": {},
   "source": [
    "# Комната"
   ]
  },
  {
   "cell_type": "code",
   "execution_count": 15,
   "id": "816e5ea8-5d58-4fb3-a234-401716beb3c0",
   "metadata": {},
   "outputs": [],
   "source": [
    "#[derive(Clone)]\n",
    "struct SmartRoom{\n",
    "    name: String,\n",
    "    devices: HashMap<String, Device>\n",
    "}"
   ]
  },
  {
   "cell_type": "code",
   "execution_count": 16,
   "id": "1f5e95d7-a6be-43a1-af1f-b90094504eb5",
   "metadata": {},
   "outputs": [],
   "source": [
    "#[derive(Debug)]\n",
    "struct RoomError;\n",
    "\n",
    "impl fmt::Display for RoomError {\n",
    "    fn fmt(&self, f: &mut fmt::Formatter<'_>) -> fmt::Result {\n",
    "        write!(f, \"Room not found\")\n",
    "    }\n",
    "}\n",
    "\n",
    "impl std::error::Error for RoomError {}"
   ]
  },
  {
   "cell_type": "code",
   "execution_count": 17,
   "id": "52f706fc-4e21-4877-b889-2edeab664cb0",
   "metadata": {},
   "outputs": [],
   "source": [
    "impl SmartRoom {\n",
    "    fn get(&self, devices: Option<Vec<String>>) -> Vec<&Device> {\n",
    "        if devices.is_some(){\n",
    "            self.devices\n",
    "                .iter()\n",
    "                .filter_map(|(k, v)| if devices.clone().unwrap().contains(k) { Some(v) } else { None })\n",
    "                .collect::<Vec<_>>().clone()\n",
    "        } else {\n",
    "            self.devices.values().collect::<Vec<_>>().clone()\n",
    "        }\n",
    "    }\n",
    "    \n",
    "    fn report(&self, devices: Option<Vec<String>>) -> fmt::Result {\n",
    "        println!(\"Room Name: {}\", self.name);\n",
    "        println!(\"Devices:\");\n",
    "        for device in self.get(devices){\n",
    "            println!(\"{}\", device)\n",
    "        }\n",
    "        Ok(())\n",
    "    } \n",
    "}"
   ]
  },
  {
   "cell_type": "code",
   "execution_count": 18,
   "id": "f987abce-d6d2-470e-a5ae-10b084011598",
   "metadata": {},
   "outputs": [],
   "source": [
    "impl SmartRoom {\n",
    "    fn get_devices_name(&self) -> Vec<&String> {\n",
    "        Vec::from_iter(\n",
    "            self.devices.keys()\n",
    "        )\n",
    "    }\n",
    "    \n",
    "    fn add_devices(&mut self, device: Device) -> fmt::Result{\n",
    "        self.devices.insert(\n",
    "            fn_device!(device, SmartDevice::get_name),\n",
    "            device\n",
    "        );\n",
    "        Ok(())\n",
    "    }\n",
    "    \n",
    "}"
   ]
  },
  {
   "cell_type": "markdown",
   "id": "b3a70d5a-0465-4e7e-8f9e-c8c8169d0a5f",
   "metadata": {},
   "source": [
    "# Дом"
   ]
  },
  {
   "cell_type": "code",
   "execution_count": 19,
   "id": "1892c1f7-6fd2-4dab-a7c9-cbf31275ad66",
   "metadata": {},
   "outputs": [],
   "source": [
    "#[derive(Clone)]\n",
    "struct SmartHouse{\n",
    "    id: Uuid,\n",
    "    name: String,\n",
    "    rooms: HashMap<String, SmartRoom>\n",
    "}"
   ]
  },
  {
   "cell_type": "code",
   "execution_count": 20,
   "id": "2b715e1d-5e8f-4bc5-9f8b-d63be5e7983c",
   "metadata": {},
   "outputs": [],
   "source": [
    "impl SmartHouse {\n",
    "    fn new(name: String) -> Self {\n",
    "        // инициализация дома\n",
    "        SmartHouse {\n",
    "            id: Uuid::new_v4(),\n",
    "            name: name,\n",
    "            rooms: HashMap::new()\n",
    "        }\n",
    "    }\n",
    "\n",
    "    fn add_room(&mut self, name: String) -> fmt::Result{\n",
    "        self.rooms.insert(\n",
    "            name.clone(),\n",
    "            SmartRoom {\n",
    "                name: name,\n",
    "                devices: HashMap::new()\n",
    "            }\n",
    "        );\n",
    "        Ok(())\n",
    "    }\n",
    "\n",
    "    fn get_rooms(&self) -> Vec<&String> {\n",
    "        // список комнат\n",
    "        Vec::from_iter(self.rooms.keys())\n",
    "    }\n",
    "}"
   ]
  },
  {
   "cell_type": "code",
   "execution_count": 21,
   "id": "351738df-81e9-4230-b8b5-0c38dba7231d",
   "metadata": {},
   "outputs": [],
   "source": [
    "impl SmartHouse {\n",
    "    fn add_device(&mut self, room: String, device: Device) -> Result<(), RoomError>{\n",
    "        let smartroom = self.rooms\n",
    "            .get_mut(&room)\n",
    "            .ok_or(RoomError {})?;\n",
    "        //SmartRoom::add_devices(smartroom, device);\n",
    "        smartroom.add_devices(device);\n",
    "        Ok( () )\n",
    "    }\n",
    "}"
   ]
  },
  {
   "cell_type": "code",
   "execution_count": 22,
   "id": "8a06b97e-02b7-4391-86bd-ce2ffebb2f5b",
   "metadata": {},
   "outputs": [],
   "source": [
    "impl SmartHouse {\n",
    "    fn get(&self, rooms: Option<Vec<String>>) -> Vec<&SmartRoom> {\n",
    "        if rooms.is_some(){\n",
    "            self.rooms\n",
    "                .iter()\n",
    "                .filter_map(|(k, v)| if rooms.clone().unwrap().contains(k) { Some(v) } else { None })\n",
    "                .collect::<Vec<_>>().clone()\n",
    "        } else {\n",
    "            self.rooms.values().collect::<Vec<_>>().clone()\n",
    "        }\n",
    "    }\n",
    "}"
   ]
  },
  {
   "cell_type": "code",
   "execution_count": 23,
   "id": "451d3ac3-0044-401a-bfff-40f310c72a0a",
   "metadata": {},
   "outputs": [],
   "source": [
    "impl SmartHouse {\n",
    "    fn devices(&self, room: String) -> Result<Vec<&String>, RoomError> {\n",
    "        // \"список устройств в комнате `room`\"\n",
    "        let smartroom = self.rooms\n",
    "            .get(&room)\n",
    "            .ok_or(RoomError {})?;\n",
    "        Ok( smartroom.get_devices_name() )\n",
    "    }\n",
    "\n",
    "    fn report(&self, rooms: Option<Vec<String>>) -> fmt::Result{\n",
    "        for room in self.get(rooms){\n",
    "            room.report(None);\n",
    "        }\n",
    "        Ok(())\n",
    "    } \n",
    "}"
   ]
  },
  {
   "cell_type": "code",
   "execution_count": null,
   "id": "aded712c-4c3e-447c-805a-84e124ec7b57",
   "metadata": {},
   "outputs": [],
   "source": []
  },
  {
   "cell_type": "code",
   "execution_count": null,
   "id": "4ce52d6d-e69c-429e-8fc7-94311d8b9a49",
   "metadata": {},
   "outputs": [],
   "source": []
  },
  {
   "cell_type": "code",
   "execution_count": null,
   "id": "b623d386-3a8b-4d19-83a7-0ec6508f42d1",
   "metadata": {},
   "outputs": [],
   "source": []
  },
  {
   "cell_type": "code",
   "execution_count": null,
   "id": "cd7d83a2-ef94-400d-8b50-5365869deb9f",
   "metadata": {},
   "outputs": [],
   "source": []
  },
  {
   "cell_type": "code",
   "execution_count": null,
   "id": "5b2f090b-490d-4ac9-9f47-bf0d7fcf61f7",
   "metadata": {},
   "outputs": [],
   "source": []
  },
  {
   "cell_type": "code",
   "execution_count": 24,
   "id": "5be853ba-ce11-4e0f-9af9-44ec63bb99a9",
   "metadata": {},
   "outputs": [],
   "source": [
    "// Инициализация устройств"
   ]
  },
  {
   "cell_type": "code",
   "execution_count": 25,
   "id": "d5fcd1f5-382f-4d76-8ae1-fec25df6446b",
   "metadata": {},
   "outputs": [],
   "source": [
    "let socket1 = SmartOutlet {\n",
    "    description: \"Розетка 1\".to_string(),\n",
    "    power: 220\n",
    "};"
   ]
  },
  {
   "cell_type": "code",
   "execution_count": 26,
   "id": "c53ea8cc-6bb3-4ea4-aa76-ac1233447393",
   "metadata": {},
   "outputs": [],
   "source": [
    "let socket2 = SmartOutlet {\n",
    "    description: \"Розетка 2\".to_string(),\n",
    "    power: 220\n",
    "};"
   ]
  },
  {
   "cell_type": "code",
   "execution_count": 27,
   "id": "5d358b98-45d8-4d7e-a63e-e242383a603f",
   "metadata": {},
   "outputs": [],
   "source": [
    "let thermo = SmartThermometer {\n",
    "    description: \"Термометр 1\".to_string(),\n",
    "    temperature: 25\n",
    "};"
   ]
  },
  {
   "cell_type": "code",
   "execution_count": 28,
   "id": "2b0d2bab-93e4-4669-a638-1610f0fcb50d",
   "metadata": {},
   "outputs": [],
   "source": [
    "// Инициализация дома"
   ]
  },
  {
   "cell_type": "code",
   "execution_count": 29,
   "id": "0ed24444-d6e5-4126-8e25-94a5005f033d",
   "metadata": {},
   "outputs": [],
   "source": [
    "let mut house = SmartHouse::new(\"Дом 1\".to_string());"
   ]
  },
  {
   "cell_type": "code",
   "execution_count": 30,
   "id": "c9b23274-5784-4b89-84b4-a195fb4a8e5c",
   "metadata": {},
   "outputs": [
    {
     "data": {
      "text/plain": [
       "Ok(())"
      ]
     },
     "execution_count": 30,
     "metadata": {},
     "output_type": "execute_result"
    }
   ],
   "source": [
    "house.report(None)"
   ]
  },
  {
   "cell_type": "code",
   "execution_count": 31,
   "id": "11e94dbf-9f0c-456e-ac59-2bd769dcda84",
   "metadata": {},
   "outputs": [
    {
     "data": {
      "text/plain": [
       "[]"
      ]
     },
     "execution_count": 31,
     "metadata": {},
     "output_type": "execute_result"
    }
   ],
   "source": [
    "house.get_rooms()"
   ]
  },
  {
   "cell_type": "code",
   "execution_count": 32,
   "id": "979e9e8d-189b-48e4-aaa6-9ff2d3c7e3ab",
   "metadata": {},
   "outputs": [
    {
     "data": {
      "text/plain": [
       "Err(RoomError)"
      ]
     },
     "execution_count": 32,
     "metadata": {},
     "output_type": "execute_result"
    }
   ],
   "source": [
    "house.devices(\"Комната 1\".to_string())"
   ]
  },
  {
   "cell_type": "code",
   "execution_count": 33,
   "id": "3db80bb4-5850-41b0-921e-3797cc2cf599",
   "metadata": {},
   "outputs": [
    {
     "data": {
      "text/plain": [
       "Ok(())"
      ]
     },
     "execution_count": 33,
     "metadata": {},
     "output_type": "execute_result"
    }
   ],
   "source": [
    "house.add_room(\"Комната 1\".to_string())"
   ]
  },
  {
   "cell_type": "code",
   "execution_count": 34,
   "id": "495ab098-f8df-44b9-bc2f-9a612b97a55a",
   "metadata": {},
   "outputs": [
    {
     "name": "stdout",
     "output_type": "stream",
     "text": [
      "Room Name: Комната 1\n",
      "Devices:\n"
     ]
    },
    {
     "data": {
      "text/plain": [
       "Ok(())"
      ]
     },
     "execution_count": 34,
     "metadata": {},
     "output_type": "execute_result"
    }
   ],
   "source": [
    "house.report(None)"
   ]
  },
  {
   "cell_type": "code",
   "execution_count": 35,
   "id": "4e067711-bf08-4d01-91de-5fe56280b0a4",
   "metadata": {},
   "outputs": [
    {
     "data": {
      "text/plain": [
       "[\"Комната 1\"]"
      ]
     },
     "execution_count": 35,
     "metadata": {},
     "output_type": "execute_result"
    }
   ],
   "source": [
    "house.get_rooms()"
   ]
  },
  {
   "cell_type": "code",
   "execution_count": 36,
   "id": "15df4154-f2fb-4eae-9c9a-55b419ffef60",
   "metadata": {},
   "outputs": [
    {
     "data": {
      "text/plain": [
       "Ok([])"
      ]
     },
     "execution_count": 36,
     "metadata": {},
     "output_type": "execute_result"
    }
   ],
   "source": [
    "house.devices(\"Комната 1\".to_string())"
   ]
  },
  {
   "cell_type": "code",
   "execution_count": 37,
   "id": "bd278424-66cf-4d42-9acb-046e71617efe",
   "metadata": {},
   "outputs": [],
   "source": [
    "let room_vec = vec![\"Комната 1\".to_string()];"
   ]
  },
  {
   "cell_type": "code",
   "execution_count": 38,
   "id": "04eb8f44-5a48-4243-bfc7-5761d6d6e24a",
   "metadata": {},
   "outputs": [
    {
     "name": "stdout",
     "output_type": "stream",
     "text": [
      "Room Name: Комната 1\n",
      "Devices:\n"
     ]
    },
    {
     "data": {
      "text/plain": [
       "Ok(())"
      ]
     },
     "execution_count": 38,
     "metadata": {},
     "output_type": "execute_result"
    }
   ],
   "source": [
    "house.report(Some(room_vec))"
   ]
  },
  {
   "cell_type": "code",
   "execution_count": 47,
   "id": "07dc8e49-9715-4f3d-8c35-2e027a5cfb0e",
   "metadata": {},
   "outputs": [],
   "source": [
    "let socket1_device = Device::Outlet(\n",
    "    SmartDevice::new(\n",
    "        \"Розетка-1\".to_string(),\n",
    "        socket1.clone(),\n",
    "        None\n",
    "    )\n",
    ");"
   ]
  },
  {
   "cell_type": "code",
   "execution_count": 48,
   "id": "9df22435-877b-4991-bca1-ac55e4c5d5d5",
   "metadata": {},
   "outputs": [
    {
     "data": {
      "text/plain": [
       "Ok(())"
      ]
     },
     "execution_count": 48,
     "metadata": {},
     "output_type": "execute_result"
    }
   ],
   "source": [
    "house.add_device(\n",
    "    \"Комната 1\".to_string(),\n",
    "    socket1_device.clone()\n",
    ")"
   ]
  },
  {
   "cell_type": "code",
   "execution_count": 49,
   "id": "b4212b06-abe6-40cf-9264-51aaff0ea4e7",
   "metadata": {},
   "outputs": [
    {
     "data": {
      "text/plain": [
       "Ok([\"Розетка-1\"])"
      ]
     },
     "execution_count": 49,
     "metadata": {},
     "output_type": "execute_result"
    }
   ],
   "source": [
    "house.devices(\"Комната 1\".to_string())"
   ]
  },
  {
   "cell_type": "code",
   "execution_count": 50,
   "id": "d140b742-0f4c-45fb-8d66-fba55bab7924",
   "metadata": {},
   "outputs": [
    {
     "name": "stdout",
     "output_type": "stream",
     "text": [
      "Room Name: Комната 1\n",
      "Devices:\n",
      "(Name: Розетка-1\n",
      "On: false\n",
      "(Description: Розетка 1\n",
      "Power: 220))\n"
     ]
    },
    {
     "data": {
      "text/plain": [
       "Ok(())"
      ]
     },
     "execution_count": 50,
     "metadata": {},
     "output_type": "execute_result"
    }
   ],
   "source": [
    "house.report(None)"
   ]
  },
  {
   "cell_type": "code",
   "execution_count": 51,
   "id": "4661b187-0f1b-4554-987a-0206e4fe764c",
   "metadata": {},
   "outputs": [
    {
     "name": "stdout",
     "output_type": "stream",
     "text": [
      "Room Name: Комната 1\n",
      "Devices:\n",
      "(Name: Розетка-1\n",
      "On: false\n",
      "(Description: Розетка 1\n",
      "Power: 220))\n"
     ]
    },
    {
     "data": {
      "text/plain": [
       "Ok(())"
      ]
     },
     "execution_count": 51,
     "metadata": {},
     "output_type": "execute_result"
    }
   ],
   "source": [
    "let room_vec = vec![\"Комната 1\".to_string()];\n",
    "\n",
    "house.report(Some(room_vec))"
   ]
  },
  {
   "cell_type": "code",
   "execution_count": null,
   "id": "9432cd9b-aaa7-485f-983e-d661696d189f",
   "metadata": {},
   "outputs": [],
   "source": []
  },
  {
   "cell_type": "code",
   "execution_count": null,
   "id": "067de078-75ed-4c36-8c52-01957c4ca284",
   "metadata": {},
   "outputs": [],
   "source": []
  },
  {
   "cell_type": "code",
   "execution_count": null,
   "id": "f13f3cba-4c7a-4d2f-99bb-3d095b04c3d4",
   "metadata": {},
   "outputs": [],
   "source": []
  },
  {
   "cell_type": "code",
   "execution_count": null,
   "id": "75cc1c5d-a9bd-44a1-ac00-9eb0c5808923",
   "metadata": {},
   "outputs": [],
   "source": []
  },
  {
   "cell_type": "code",
   "execution_count": null,
   "id": "33006939-453b-4d5e-9ac2-304ec1fd81b3",
   "metadata": {},
   "outputs": [],
   "source": []
  },
  {
   "cell_type": "code",
   "execution_count": null,
   "id": "9f211967-0c42-4601-98c7-8fe916a1c345",
   "metadata": {},
   "outputs": [],
   "source": []
  },
  {
   "cell_type": "code",
   "execution_count": 39,
   "id": "6f863ac5-d4cb-45cc-9b11-bb2ba21fe543",
   "metadata": {},
   "outputs": [
    {
     "ename": "Error",
     "evalue": "`match` arms have incompatible types",
     "output_type": "error",
     "traceback": [
      "let result = get!(",
      "                    d,",
      "                    SmartDevice::get_config",
      "                );",
      "\u001b[91m             ^^^^\u001b[0m \u001b[94mexpected `&SmartOutlet`, found `&SmartThermometer`\u001b[0m",
      "let result = get!(",
      "                    d,",
      "                    SmartDevice::get_config",
      "                );",
      "\u001b[91m             ^^^^\u001b[0m \u001b[94mthis is found to be of type `&SmartOutlet`\u001b[0m",
      "let result = get!(",
      "                    d,",
      "                    SmartDevice::get_config",
      "                );",
      "\u001b[91m             ^^^^\u001b[0m \u001b[94m`match` arms have incompatible types\u001b[0m",
      "`match` arms have incompatible types"
     ]
    }
   ],
   "source": [
    "let socket1 = SmartOutlet {\n",
    "    description: \"Розетка 1\".to_string(),\n",
    "    power: 220\n",
    "};\n",
    "\n",
    "let d:Device = Device::Outlet(\n",
    "    SmartDevice::new(\n",
    "        \"test\".to_string(),\n",
    "        socket1,\n",
    "        None\n",
    "    )\n",
    ");\n",
    "\n",
    "let result = get!(\n",
    "                    d,\n",
    "                    SmartDevice::get_config\n",
    "                );"
   ]
  },
  {
   "cell_type": "code",
   "execution_count": null,
   "id": "f452606a-b3fe-4f1d-87f5-d6accfb20ae8",
   "metadata": {},
   "outputs": [],
   "source": []
  },
  {
   "cell_type": "code",
   "execution_count": null,
   "id": "0590dc74-2be8-4e63-9526-a53bb6442187",
   "metadata": {},
   "outputs": [],
   "source": []
  },
  {
   "cell_type": "code",
   "execution_count": null,
   "id": "b863f630-2e00-4ad1-9618-dcc477f4155e",
   "metadata": {},
   "outputs": [],
   "source": []
  },
  {
   "cell_type": "code",
   "execution_count": null,
   "id": "62b347f4-acaf-438c-abbf-d845929c9a05",
   "metadata": {},
   "outputs": [],
   "source": []
  },
  {
   "cell_type": "code",
   "execution_count": null,
   "id": "87fb2286-5146-4c37-a87e-5de35f9ef460",
   "metadata": {},
   "outputs": [],
   "source": []
  },
  {
   "cell_type": "code",
   "execution_count": null,
   "id": "fa803bd3-37f6-41e6-a86a-af74a50316b8",
   "metadata": {},
   "outputs": [],
   "source": []
  },
  {
   "cell_type": "code",
   "execution_count": null,
   "id": "d16b6031-4a78-4b07-a12d-65321db5ec01",
   "metadata": {},
   "outputs": [],
   "source": []
  },
  {
   "cell_type": "code",
   "execution_count": null,
   "id": "31d86411-fbdb-4dad-8f07-c788d2ec6f86",
   "metadata": {},
   "outputs": [],
   "source": []
  },
  {
   "cell_type": "code",
   "execution_count": null,
   "id": "644147a4-28e3-4d5a-b3ae-901f0ded1035",
   "metadata": {},
   "outputs": [],
   "source": []
  },
  {
   "cell_type": "code",
   "execution_count": null,
   "id": "3c2a71f5-f9d0-4fa1-bfec-ea2b80c69092",
   "metadata": {},
   "outputs": [],
   "source": []
  },
  {
   "cell_type": "code",
   "execution_count": null,
   "id": "76c3e42f-2258-4d6c-94d5-3d4a91b2daf9",
   "metadata": {},
   "outputs": [],
   "source": []
  }
 ],
 "metadata": {
  "kernelspec": {
   "display_name": "Rust",
   "language": "rust",
   "name": "rust"
  },
  "language_info": {
   "codemirror_mode": "rust",
   "file_extension": ".rs",
   "mimetype": "text/rust",
   "name": "Rust",
   "pygment_lexer": "rust",
   "version": ""
  }
 },
 "nbformat": 4,
 "nbformat_minor": 5
}
